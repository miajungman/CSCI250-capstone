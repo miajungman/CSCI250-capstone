{
 "cells": [
  {
   "cell_type": "markdown",
   "metadata": {},
   "source": [
    "<img src=\"https://www.mines.edu/webcentral/wp-content/uploads/sites/267/2019/02/horizontallightbackground.jpg\" width=\"100%\"> \n",
    "\n",
    "### CSCI250 Python Computing: Building a Sensor System\n",
    "<hr style=\"height:5px\" width=\"100%\" align=\"left\">\n",
    "\n",
    "# Capstone project proposal"
   ]
  },
  {
   "cell_type": "markdown",
   "metadata": {},
   "source": [
    "# Title and description of the project\n",
    "\n",
    "**RaspberryPi Guitar Tuner**\n",
    "\n",
    "This project will be a circuit that is designed to tune a 6 string acoustic guitar using a RaspberryPi microcontroller and the sensors given to us in class. "
   ]
  },
  {
   "cell_type": "markdown",
   "metadata": {},
   "source": [
    "# Names and roles of all team members\n",
    "\n",
    "**Mia Jungman** - circuit design\n",
    "\n",
    "**Kevin Collins** - programming lead\n",
    "\n",
    "**Aria Ingle** - report lead"
   ]
  },
  {
   "cell_type": "markdown",
   "metadata": {},
   "source": [
    "# How the project requirements will be met\n",
    "\n",
    "All the project requirments will be met by our group. The requirement of having three sensors is also fullfilled by our idea. We will be using exactly three complex sensors, in addition to push buttons and LEDs. Our concept for this project is to compare frequencies collected by the microphone sensor to the accepted frequencies for each correctly-tuned string on an acoustic guitar. To acomplish the prject components requirements we will do the following.\n",
    "Microphone sensor - collect sound data from the guitar strings.\n",
    "Analog-to-digital converter (ADC) - to convert the analog sound data into digital data .\n",
    "Rpi - process the sound data and analyze the frequency content of the signal.\n",
    "LED display - display useful information such as the frequency of the guitar string and whether it is in tune or not.\n",
    "Buttons - allow the user to select which guitar string they want to tune.\n",
    "Buzzer - provide audible feedback when the guitar string is in tune."
   ]
  },
  {
   "cell_type": "markdown",
   "metadata": {},
   "source": [
    "# Project timeline and milestones\n",
    "\n",
    "We will begin working on this project after the completition of HL5. We will have our first draft of circuit and code design completed by April 21 to make an adequate update report. We Will then refine our designs until the end of April and then start making our report for the 3rd."
   ]
  },
  {
   "cell_type": "markdown",
   "metadata": {},
   "source": [
    "# Hardware elements you intend to use\n",
    "We intend to use the following hardware elements in our project:\n",
    "\n",
    "1) A microphone sensor, using both the audio and gate port\n",
    "2) A buzzer sensor\n",
    "3) A red, green, and yellow LED\n",
    "4) 6 push buttons \n"
   ]
  },
  {
   "cell_type": "code",
   "execution_count": null,
   "metadata": {},
   "outputs": [],
   "source": []
  }
 ],
 "metadata": {
  "hide_input": false,
  "kernelspec": {
   "display_name": "Python 3 (ipykernel)",
   "language": "python",
   "name": "python3"
  },
  "language_info": {
   "codemirror_mode": {
    "name": "ipython",
    "version": 3
   },
   "file_extension": ".py",
   "mimetype": "text/x-python",
   "name": "python",
   "nbconvert_exporter": "python",
   "pygments_lexer": "ipython3",
   "version": "3.9.13"
  },
  "varInspector": {
   "cols": {
    "lenName": 16,
    "lenType": 16,
    "lenVar": 40
   },
   "kernels_config": {
    "python": {
     "delete_cmd_postfix": "",
     "delete_cmd_prefix": "del ",
     "library": "var_list.py",
     "varRefreshCmd": "print(var_dic_list())"
    },
    "r": {
     "delete_cmd_postfix": ") ",
     "delete_cmd_prefix": "rm(",
     "library": "var_list.r",
     "varRefreshCmd": "cat(var_dic_list()) "
    }
   },
   "types_to_exclude": [
    "module",
    "function",
    "builtin_function_or_method",
    "instance",
    "_Feature"
   ],
   "window_display": false
  }
 },
 "nbformat": 4,
 "nbformat_minor": 4
}
