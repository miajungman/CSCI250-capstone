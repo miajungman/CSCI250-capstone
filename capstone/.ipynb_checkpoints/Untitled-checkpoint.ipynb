{
 "cells": [
  {
   "cell_type": "markdown",
   "id": "91dccc91-48cd-4401-ae6f-711acec2e13d",
   "metadata": {},
   "source": [
    "### capstone puesdo code"
   ]
  },
  {
   "cell_type": "markdown",
   "id": "81995321-620c-4558-ae05-bf6c363702d3",
   "metadata": {},
   "source": [
    "def tuner(buzzer, freqA):\n",
    "    while true\n",
    "        if gate_pin == True:\n",
    "            freq = microphone_freq\n",
    "        \n",
    "            if microphone_freq < freqA:\n",
    "                red_LED = true\n",
    "                buzzer = freqA\n",
    "        \n",
    "            elif microphone_freq > freqA:\n",
    "                yellow_LED = true\n",
    "                buzzer = freqA\n",
    "        \n",
    "            elif microphone_freq == freqA:\n",
    "                green_LED = true\n",
    "                buzzer = strum of guitar strings for fun?"
   ]
  },
  {
   "cell_type": "markdown",
   "id": "6e4d0272-9760-429e-a77e-529c7aa94f68",
   "metadata": {},
   "source": [
    "if buttonE == True:\n",
    "    freqA = 82 Hz\n",
    "    E_tuned = tuner(freqA)\n",
    "\n",
    "if buttonA == True:\n",
    "    freqA = 110 Hz\n",
    "    A_tuned = tuner(buzzer, freqA)\n",
    "\n",
    "if buttonD == True:\n",
    "    freqA = 147 Hz\n",
    "    D_tuned = tuner(buzzer, freqA)\n",
    "\n",
    "if buttonG == True:\n",
    "    freqA = 196 Hz\n",
    "    G_tuned = tuner(buzzer, freqA)\n",
    "    \n",
    "if buttonB == True:\n",
    "    freqA = 247 Hz\n",
    "    B_tuned = tuner(buzzer, freqA)\n",
    "\n",
    "if button_e ==True:\n",
    "        freqA =  330 Hz\n",
    "        e_tuned = tuner(buzzer, freqA)"
   ]
  }
 ],
 "metadata": {
  "kernelspec": {
   "display_name": "Python 3 (ipykernel)",
   "language": "python",
   "name": "python3"
  },
  "language_info": {
   "codemirror_mode": {
    "name": "ipython",
    "version": 3
   },
   "file_extension": ".py",
   "mimetype": "text/x-python",
   "name": "python",
   "nbconvert_exporter": "python",
   "pygments_lexer": "ipython3",
   "version": "3.9.13"
  }
 },
 "nbformat": 4,
 "nbformat_minor": 5
}
